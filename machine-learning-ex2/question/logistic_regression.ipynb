{
 "cells": [
  {
   "cell_type": "markdown",
   "metadata": {},
   "source": [
    "# Machine Learning Online Class - Exercise 2: Logistic Regression\n",
    "\n",
    "##  Instructions\n",
    "\n",
    "This file contains code that helps you get started on the logistic\n",
    "regression exercise. You will need to complete the following functions \n",
    "in this exericse:\n",
    "\n",
    "- sigmoid.m\n",
    "- costFunction.m\n",
    "- predict.m\n",
    "- costFunctionReg.m\n",
    "\n",
    " For this exercise, you will not need to change any code in this file,\n",
    "     or any other files other than those mentioned above."
   ]
  },
  {
   "cell_type": "code",
   "execution_count": 10,
   "metadata": {
    "collapsed": false
   },
   "outputs": [],
   "source": [
    "%matplotlib inline\n",
    "import matplotlib.pyplot as plt\n",
    "import pandas as pd\n",
    "import scipy as py\n",
    "import numpy as np"
   ]
  },
  {
   "cell_type": "code",
   "execution_count": 29,
   "metadata": {
    "collapsed": false
   },
   "outputs": [
    {
     "data": {
      "text/plain": [
       "[<matplotlib.lines.Line2D at 0x10be836d8>]"
      ]
     },
     "execution_count": 29,
     "metadata": {},
     "output_type": "execute_result"
    },
    {
     "data": {
      "image/png": "[encoded data removed]",
      "text/plain": [
       "<matplotlib.figure.Figure at 0x10c2ac978>"
      ]
     },
     "metadata": {},
     "output_type": "display_data"
    }
   ],
   "source": [
    "## Load Data\n",
    "# The first two columns contains the exam scores and the third column\n",
    "#  contains the label.\n",
    "\n",
    "df = pd.read_csv(\"../ex2data1.txt\", names=['score1', 'score2', 'admitted'])\n",
    "df.head()\n",
    "\n",
    "X = df[[\"score1\",\"score2\"]].head()\n",
    "y = df[\"admitted\"].head()\n",
    "\n",
    "# plt.plot(x=X.score1, y=X.score2, \"o\")\n",
    "plt.plot(df[\"score1\"],df[\"score2\"], \"ro\")"
   ]
  },
  {
   "cell_type": "markdown",
   "metadata": {},
   "source": [
    "# Part 1: Plotting - plotData(X, y)\n",
    "\n",
    "%  We start the exercise by first plotting the data to understand the\n",
    "%  the problem we are working with.\n",
    "\n",
    "fprintf(['Plotting data with + indicating (y = 1) examples and o ' ...\n",
    "         'indicating (y = 0) examples.\\n']);\n",
    "\n",
    "plotData(X, y);\n",
    "\n",
    "% Put some labels\n",
    "hold on;\n",
    "% Labels and Legend\n",
    "xlabel('Exam 1 score')\n",
    "ylabel('Exam 2 score')\n",
    "\n",
    "% Specified in plot order\n",
    "legend('Admitted', 'Not admitted')\n",
    "hold off;\n",
    "\n",
    "fprintf('\\nProgram paused. Press enter to continue.\\n');\n",
    "pause;"
   ]
  },
  {
   "cell_type": "code",
   "execution_count": 23,
   "metadata": {
    "collapsed": false
   },
   "outputs": [
    {
     "name": "stdout",
     "output_type": "stream",
     "text": [
      "Plotting data with + indicating (y = 1) examples and o indicating (y = 0) examples.\n"
     ]
    }
   ],
   "source": [
    "#   We start the exercise by first plotting the data to understand the problem we are working with.\n",
    "print('Plotting data with + indicating (y = 1) examples and o indicating (y = 0) examples.')\n",
    "\n",
    "# def plot_data(X, y):\n",
    "    # PLOTDATA Plots the data points X and y into a new figure\n",
    "    #    PLOTDATA(x,y) plots the data points with + for the positive examples\n",
    "    #    and o for the negative examples. X is assumed to be a Mx2 matrix.\n",
    "\n",
    "    #  Create New Figure\n",
    "    # figure; hold on;\n",
    "#     plt.plot(X[])\n",
    "#     plt.plot(x, y, \"o\") \n",
    "    \n",
    "    x = np.arange(-3, 3, 0.1)\n",
    "    y = np.sin(x)\n",
    "    plt.plot(x, y)\n",
    "\n",
    "#  ====================== YOUR CODE HERE ======================\n",
    "#  Instructions: Plot the positive and negative examples on a\n",
    "#                2D plot, using the option 'k+' for the positive\n",
    "#                examples and 'ko' for the negative examples.\n",
    "#  Find Indices of Positive and Negative Examples\n",
    "# pos = find(y==1); neg = find(y == 0);\n",
    "#  Plot Examples\n",
    "# plot(X(pos, 1), X(pos, 2), 'k+','LineWidth', 2, ...\n",
    "#      'MarkerSize', 7);\n",
    "# plot(X(neg, 1), X(neg, 2), 'ko', 'MarkerFaceColor', 'y', ...\n",
    "#      'MarkerSize', 7);\n",
    "#  =========================================================================\n",
    "\n",
    "\n",
    "\n",
    "\n",
    "\n",
    "\n"
   ]
  },
  {
   "cell_type": "code",
   "execution_count": null,
   "metadata": {
    "collapsed": true
   },
   "outputs": [],
   "source": [
    "plotData(X, y);\n",
    "\n",
    "% Put some labels\n",
    "hold on;\n",
    "% Labels and Legend\n",
    "xlabel('Exam 1 score')\n",
    "ylabel('Exam 2 score')\n",
    "\n",
    "% Specified in plot order\n",
    "legend('Admitted', 'Not admitted')\n",
    "hold off;\n",
    "\n",
    "fprintf('\\nProgram pause"
   ]
  },
  {
   "cell_type": "markdown",
   "metadata": {},
   "source": [
    "\n",
    "% Put some labels \n",
    "hold on;\n",
    "% Labels and Legend\n",
    "xlabel('Exam 1 score')\n",
    "ylabel('Exam 2 score')\n",
    "\n",
    "% Specified in plot order\n",
    "legend('Admitted', 'Not admitted')\n",
    "hold off;\n",
    "\n",
    "fprintf('\\nProgram paused. Press enter to continue.\\n');\n",
    "pause;\n",
    "\n",
    "\n",
    "%% ============ Part 2: Compute Cost and Gradient ============\n",
    "%  In this part of the exercise, you will implement the cost and gradient\n",
    "%  for logistic regression. You neeed to complete the code in \n",
    "%  costFunction.m\n",
    "\n",
    "%  Setup the data matrix appropriately, and add ones for the intercept term\n",
    "[m, n] = size(X);\n",
    "\n",
    "% Add intercept term to x and X_test\n",
    "X = [ones(m, 1) X];\n",
    "\n",
    "% Initialize fitting parameters\n",
    "initial_theta = zeros(n + 1, 1);\n",
    "\n",
    "% Compute and display initial cost and gradient\n",
    "[cost, grad] = costFunction(initial_theta, X, y);\n",
    "\n",
    "fprintf('Cost at initial theta (zeros): %f\\n', cost);\n",
    "fprintf('Gradient at initial theta (zeros): \\n');\n",
    "fprintf(' %f \\n', grad);\n",
    "\n",
    "fprintf('\\nProgram paused. Press enter to continue.\\n');\n",
    "pause;\n",
    "\n",
    "\n",
    "%% ============= Part 3: Optimizing using fminunc  =============\n",
    "%  In this exercise, you will use a built-in function (fminunc) to find the\n",
    "%  optimal parameters theta.\n",
    "\n",
    "%  Set options for fminunc\n",
    "options = optimset('GradObj', 'on', 'MaxIter', 400);\n",
    "\n",
    "%  Run fminunc to obtain the optimal theta\n",
    "%  This function will return theta and the cost \n",
    "[theta, cost] = ...\n",
    "\tfminunc(@(t)(costFunction(t, X, y)), initial_theta, options);\n",
    "\n",
    "% Print theta to screen\n",
    "fprintf('Cost at theta found by fminunc: %f\\n', cost);\n",
    "fprintf('theta: \\n');\n",
    "fprintf(' %f \\n', theta);\n",
    "\n",
    "% Plot Boundary\n",
    "plotDecisionBoundary(theta, X, y);\n",
    "\n",
    "% Put some labels \n",
    "hold on;\n",
    "% Labels and Legend\n",
    "xlabel('Exam 1 score')\n",
    "ylabel('Exam 2 score')\n",
    "\n",
    "% Specified in plot order\n",
    "legend('Admitted', 'Not admitted')\n",
    "hold off;\n",
    "\n",
    "fprintf('\\nProgram paused. Press enter to continue.\\n');\n",
    "pause;\n",
    "\n",
    "%% ============== Part 4: Predict and Accuracies ==============\n",
    "%  After learning the parameters, you'll like to use it to predict the outcomes\n",
    "%  on unseen data. In this part, you will use the logistic regression model\n",
    "%  to predict the probability that a student with score 45 on exam 1 and \n",
    "%  score 85 on exam 2 will be admitted.\n",
    "%\n",
    "%  Furthermore, you will compute the training and test set accuracies of \n",
    "%  our model.\n",
    "%\n",
    "%  Your task is to complete the code in predict.m\n",
    "\n",
    "%  Predict probability for a student with score 45 on exam 1 \n",
    "%  and score 85 on exam 2 \n",
    "\n",
    "prob = sigmoid([1 45 85] * theta);\n",
    "fprintf(['For a student with scores 45 and 85, we predict an admission ' ...\n",
    "         'probability of %f\\n\\n'], prob);\n",
    "\n",
    "% Compute accuracy on our training set\n",
    "p = predict(theta, X);\n",
    "\n",
    "fprintf('Train Accuracy: %f\\n', mean(double(p == y)) * 100);\n",
    "\n",
    "fprintf('\\nProgram paused. Press enter to continue.\\n');\n",
    "pause;"
   ]
  }
 ],
 "metadata": {
  "anaconda-cloud": {},
  "celltoolbar": "Raw Cell Format",
  "kernelspec": {
   "display_name": "Python [default]",
   "language": "python",
   "name": "python3"
  },
  "language_info": {
   "codemirror_mode": {
    "name": "ipython",
    "version": 3
   },
   "file_extension": ".py",
   "mimetype": "text/x-python",
   "name": "python",
   "nbconvert_exporter": "python",
   "pygments_lexer": "ipython3",
   "version": "3.5.2"
  }
 },
 "nbformat": 4,
 "nbformat_minor": 1
}
