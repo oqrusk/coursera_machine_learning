{
 "cells": [
  {
   "cell_type": "markdown",
   "metadata": {},
   "source": [
    "# Setting Up\n",
    "- install font\n",
    "https://github.com/adobe-fonts/source-han-code-jp/releases/tag/2.000R\n",
    "\n",
    "- LaTeX command reference \n",
    "http://www.latex-cmd.com/"
   ]
  },
  {
   "cell_type": "markdown",
   "metadata": {},
   "source": [
    "# Machine Learning Online Class - Exercise 2: Logistic Regression\n",
    "\n",
    "##  Instructions\n",
    "\n",
    "This file contains code that helps you get started on the logistic regression exercise.  \n",
    "You will need to complete the following functions in this exericse:\n",
    "\n",
    "- sigmoid.m\n",
    "- costFunction.m\n",
    "- predict.m\n",
    "- costFunctionReg.m\n",
    "\n",
    "For this exercise, you will not need to change any code in this file, or any other files other than those mentioned above."
   ]
  },
  {
   "cell_type": "code",
   "execution_count": 2,
   "metadata": {
    "collapsed": true
   },
   "outputs": [],
   "source": [
    "%matplotlib inline\n",
    "from matplotlib import pyplot as plt, rcParams\n",
    "import pandas as pd\n",
    "from scipy import special, optimize\n",
    "import numpy as np"
   ]
  },
  {
   "cell_type": "markdown",
   "metadata": {},
   "source": [
    "# Load Data\n",
    "The first two columns contains the exam scores and the third column contains the label.\n"
   ]
  },
  {
   "cell_type": "code",
   "execution_count": 3,
   "metadata": {
    "collapsed": false
   },
   "outputs": [
    {
     "data": {
      "text/html": [
       "<div>\n",
       "<table border=\"1\" class=\"dataframe\">\n",
       "  <thead>\n",
       "    <tr style=\"text-align: right;\">\n",
       "      <th></th>\n",
       "      <th>score1</th>\n",
       "      <th>score2</th>\n",
       "      <th>admitted</th>\n",
       "    </tr>\n",
       "  </thead>\n",
       "  <tbody>\n",
       "    <tr>\n",
       "      <th>0</th>\n",
       "      <td>0.051267</td>\n",
       "      <td>0.69956</td>\n",
       "      <td>1</td>\n",
       "    </tr>\n",
       "    <tr>\n",
       "      <th>1</th>\n",
       "      <td>-0.092742</td>\n",
       "      <td>0.68494</td>\n",
       "      <td>1</td>\n",
       "    </tr>\n",
       "    <tr>\n",
       "      <th>2</th>\n",
       "      <td>-0.213710</td>\n",
       "      <td>0.69225</td>\n",
       "      <td>1</td>\n",
       "    </tr>\n",
       "    <tr>\n",
       "      <th>3</th>\n",
       "      <td>-0.375000</td>\n",
       "      <td>0.50219</td>\n",
       "      <td>1</td>\n",
       "    </tr>\n",
       "    <tr>\n",
       "      <th>4</th>\n",
       "      <td>-0.513250</td>\n",
       "      <td>0.46564</td>\n",
       "      <td>1</td>\n",
       "    </tr>\n",
       "  </tbody>\n",
       "</table>\n",
       "</div>"
      ],
      "text/plain": [
       "     score1   score2  admitted\n",
       "0  0.051267  0.69956         1\n",
       "1 -0.092742  0.68494         1\n",
       "2 -0.213710  0.69225         1\n",
       "3 -0.375000  0.50219         1\n",
       "4 -0.513250  0.46564         1"
      ]
     },
     "execution_count": 3,
     "metadata": {},
     "output_type": "execute_result"
    }
   ],
   "source": [
    "df = pd.read_csv(\"./ex2data2.txt\", names=['score1', 'score2', 'admitted'])\n",
    "df.head()"
   ]
  },
  {
   "cell_type": "code",
   "execution_count": 4,
   "metadata": {
    "collapsed": false
   },
   "outputs": [
    {
     "name": "stdout",
     "output_type": "stream",
     "text": [
      "X.shape (118, 2)\n",
      "y.shape (118, 1)\n"
     ]
    }
   ],
   "source": [
    "X = df.as_matrix([\"score1\",\"score2\"])\n",
    "y = df.as_matrix([\"admitted\"])\n",
    "\n",
    "print(\"X.shape\", X.shape)\n",
    "print(\"y.shape\", y.shape)"
   ]
  },
  {
   "cell_type": "markdown",
   "metadata": {},
   "source": [
    "# Part 1: Plotting - plotData(X, y)\n",
    "\n",
    "We start the exercise by first plotting the data to understand the problem we are working with.\n",
    "\n",
    "xlabel('Exam 1 score')\n",
    "ylabel('Exam 2 score')\n",
    "legend('Admitted', 'Not admitted')"
   ]
  },
  {
   "cell_type": "code",
   "execution_count": 5,
   "metadata": {
    "collapsed": false,
    "scrolled": true
   },
   "outputs": [
    {
     "name": "stdout",
     "output_type": "stream",
     "text": [
      "Plotting data with + indicating (y = 1) examples and o indicating (y = 0) examples.\n"
     ]
    },
    {
     "data": {
      "image/png": "[encoded data removed]",
      "text/plain": [
       "<matplotlib.figure.Figure at 0x113e5c5c0>"
      ]
     },
     "metadata": {},
     "output_type": "display_data"
    }
   ],
   "source": [
    "#   We start the exercise by first plotting the data to understand the problem we are working with.\n",
    "print('Plotting data with + indicating (y = 1) examples and o indicating (y = 0) examples.')\n",
    "\n",
    "def plot_data(X, y):\n",
    "    #  Find Indices of Positive and Negative Examples\n",
    "    pos = X[(y==1)[:, 0]] # (y==1)[:, 0]  :convert (m, 1) matrix to index array: (m, )\n",
    "    neg = X[(y==0)[:,0]]\n",
    "\n",
    "    plt.plot(pos[:, 0], pos[:, 1], \"o\", label=u'admitted')\n",
    "    plt.plot(neg[:, 0], neg[:, 1], \"x\", label=u'not admitted')\n",
    "    plt.xlabel('Microchip Test 1')\n",
    "    plt.ylabel('Microchip Test 2')\n",
    "    plt.legend()\n",
    "\n",
    "# call this function\n",
    "plot_data(X, y)"
   ]
  },
  {
   "cell_type": "code",
   "execution_count": 6,
   "metadata": {
    "collapsed": true,
    "scrolled": true
   },
   "outputs": [],
   "source": [
    "def sigmoid(z):\n",
    "    return 1 / (1 + np.exp(-z))"
   ]
  },
  {
   "cell_type": "code",
   "execution_count": 7,
   "metadata": {
    "collapsed": true
   },
   "outputs": [],
   "source": [
    "def map_feature(X1, X2):\n",
    "    '''\n",
    "    MAPFEATURE Feature mapping function to polynomial features\n",
    "    MAPFEATURE(X1, X2) maps the two input features to quadratic features used in the regularization exercise.\n",
    "\n",
    "    Returns a new feature array with more features, comprising of\n",
    "        X1, X2, X1.^2, X2.^2, X1*X2, X1*X2.^2, etc..\n",
    "    \n",
    "    Inputs X1, X2 must be the same size\n",
    "    '''\n",
    "    degree = 7\n",
    "    out = np.ones(shape=(X1.size, 1))\n",
    "\n",
    "    for i in range(1, degree):\n",
    "        for j in  range(0, i+1):\n",
    "            n = np.power(X1, i - j) * np.power(X2, j)\n",
    "            out = np.hstack((out, n))\n",
    "    return out"
   ]
  },
  {
   "cell_type": "code",
   "execution_count": 8,
   "metadata": {
    "collapsed": false
   },
   "outputs": [
    {
     "name": "stdout",
     "output_type": "stream",
     "text": [
      "Cost at initial theta (zeros):  [ 0.69314718]\n",
      "grad:  [  8.47457627e-03   1.87880932e-02   7.77711864e-05   5.03446395e-02\n",
      "   1.15013308e-02   3.76648474e-02   1.83559872e-02   7.32393391e-03\n",
      "   8.19244468e-03   2.34764889e-02   3.93486234e-02   2.23923907e-03\n",
      "   1.28600503e-02   3.09593720e-03   3.93028171e-02   1.99707467e-02\n",
      "   4.32983232e-03   3.38643902e-03   5.83822078e-03   4.47629067e-03\n",
      "   3.10079849e-02   3.10312442e-02   1.09740238e-03   6.31570797e-03\n",
      "   4.08503006e-04   7.26504316e-03   1.37646175e-03   3.87936363e-02]\n"
     ]
    }
   ],
   "source": [
    "def cost_function_reg(theta, X, y, lmd):\n",
    "    m = y.shape[0]\n",
    "    hx = sigmoid(np.dot(X, theta))\n",
    "\n",
    "    regularized = lmd / (2 * m) * np.dot(theta.T, theta) \n",
    "\n",
    "    J = (1/m) * ( - np.dot(y.T, np.log(hx)) - np.dot((1 - y).T, np.log(1 - hx))) + regularized\n",
    "    return J.flatten()\n",
    "\n",
    "def gradient_descent(theta, X, y, lmd):\n",
    "    m = y.shape[0] # number of training examples\n",
    "    if len(theta.shape) < 2:\n",
    "        theta = theta[:, np.newaxis]\n",
    "    hx = sigmoid(X.dot(theta))\n",
    "    grad = (1/m) * np.dot(X.T, (hx -  y)) + lmd/m * theta\n",
    "    return grad.flatten() # return must be a vector , admitting to bfgc\n",
    "\n",
    "\n",
    "X_m = map_feature(X[:, 0:1], X[:, 1:2])\n",
    "(m, n) = X_m.shape\n",
    "\n",
    "initial_theta = np.zeros(shape=(n, 1))\n",
    "lmd = 1\n",
    "\n",
    "cost = cost_function_reg(initial_theta, X_m, y, lmd)\n",
    "grad = gradient_descent(initial_theta, X_m, y, lmd)\n",
    "\n",
    "print('Cost at initial theta (zeros): ', cost)\n",
    "print('grad: ', grad)"
   ]
  },
  {
   "cell_type": "markdown",
   "metadata": {},
   "source": [
    "# Part 2: Regularization and Accuracies\n",
    "\n",
    "Optional Exercise:\n",
    "In this part, you will get to try different values of lambda \n",
    "and see how regularization affects the decision coundart\n",
    "Try the following values of lambda (0, 1, 10, 100).\n",
    "\n",
    "How does the decision boundary change when you vary lambda? \n",
    "How does the training set accuracy vary?\n"
   ]
  },
  {
   "cell_type": "code",
   "execution_count": 9,
   "metadata": {
    "collapsed": false
   },
   "outputs": [
    {
     "name": "stdout",
     "output_type": "stream",
     "text": [
      "Cost at theta found by fminunc: 0.5351602589479554\n",
      "theta: [ 1.14216777  0.60159663  1.16719545 -1.87133829 -0.91585491 -1.27009709\n",
      "  0.12635743 -0.36845898 -0.34493717 -0.17359465 -1.42386126 -0.04896996\n",
      " -0.60654119 -0.26932569 -1.16298464 -0.24354149 -0.20689069 -0.0433884\n",
      " -0.28027298 -0.28676043 -0.46905353 -1.03650746  0.02900085 -0.29266121\n",
      "  0.01716382 -0.32900567 -0.13798774 -0.93193359]\n"
     ]
    }
   ],
   "source": [
    "(m, n) = X_m.shape\n",
    "#  Initialize fitting parameters\n",
    "initial_theta = np.zeros(shape=(n, 1)) # print(initial_theta.shape) # (16, 1)\n",
    "\n",
    "#  Set regularization parameter lambda to 1 (you should vary this)\n",
    "lmd = 1\n",
    "\n",
    "# Run fminunc to obtain the optimal theta \n",
    "cf = lambda t: cost_function_reg(t, X_m, y, lmd)\n",
    "grad = lambda t: gradient_descent(t, X_m, y, lmd)\n",
    "\n",
    "res = optimize.minimize(cf, initial_theta, method='BFGS', jac=grad, options={'maxiter': 400})\n",
    "\n",
    "# Print theta to screen\n",
    "print('Cost at theta found by fminunc: {0}'.format(res.fun))\n",
    "print('theta:', res.x)\n",
    "theta = res.x\n",
    "# print(res)"
   ]
  },
  {
   "cell_type": "code",
   "execution_count": 14,
   "metadata": {
    "collapsed": false
   },
   "outputs": [
    {
     "name": "stdout",
     "output_type": "stream",
     "text": [
      "X_:  (50, 50)\n",
      "Y_:  (50, 50)\n",
      "z:  (50, 50)\n"
     ]
    },
    {
     "data": {
      "image/png": "[encoded data removed]",
      "text/plain": [
       "<matplotlib.figure.Figure at 0x113e7a2e8>"
      ]
     },
     "metadata": {},
     "output_type": "display_data"
    }
   ],
   "source": [
    "def caluclate_z(u, v, theta):\n",
    "    b = []\n",
    "    for i in range(0, len(u)):\n",
    "        a = []\n",
    "        for j in range(0, len(v)):\n",
    "            z = map_feature(np.matrix(u[i]), np.matrix(v[j])).dot(theta[:, np.newaxis])\n",
    "            a.append(z.item(0))\n",
    "        b.append(a)\n",
    "    return np.array(b)\n",
    "    \n",
    "def plot_decision_boundary(theta, X, y):\n",
    "    plot_data(X[:, (1, 2)], y)\n",
    "\n",
    "    # Here is the grid range\n",
    "    u = np.linspace(-1, 1.5, num=50)\n",
    "    v = np.linspace(-1, 1.5, num=50)\n",
    "    X_, Y_ = np.meshgrid(u, v)    #  z = np.dot(map_feature(u[:, np.newaxis], v[:, np.newaxis]), theta_) #(28, 1)\n",
    "    Z_ = caluclate_z(u, v, theta) # Z_shape = (50, 50)\n",
    "#     print(\"X_: \", X_.shape)\n",
    "#     print(\"Y_: \", Y_.shape)\n",
    "#     print(\"z: \", z.shape)\n",
    "    \n",
    "    plt.contour(X_, Y_, Z_, levels=[0.5], linewidths=1) #  http://ailaby.com/contour/\n",
    "    plt.show()\n",
    "\n",
    "plot_decision_boundary(theta, X_m, y)"
   ]
  },
  {
   "cell_type": "code",
   "execution_count": 353,
   "metadata": {
    "collapsed": false
   },
   "outputs": [
    {
     "name": "stdout",
     "output_type": "stream",
     "text": [
      "Train Accuracy: 49.89945417983338\n"
     ]
    }
   ],
   "source": [
    "def predict(theta_cv, X):\n",
    "    m, n = X.shape # Number of training examples\n",
    "\n",
    "    # You need to return the following variables correctly\n",
    "    p = np.zeros(shape=(m, 1))\n",
    "\n",
    "    return sigmoid(np.dot(X, theta_cv)) >= 0.5\n",
    "\n",
    "# Compute accuracy on our training set\n",
    "p = predict(theta, X_m) \n",
    "\n",
    "print('Train Accuracy: {0}'.format(np.mean(p == y) * 100))"
   ]
  }
 ],
 "metadata": {
  "anaconda-cloud": {},
  "celltoolbar": "Raw Cell Format",
  "kernelspec": {
   "display_name": "Python [default]",
   "language": "python",
   "name": "python3"
  },
  "language_info": {
   "codemirror_mode": {
    "name": "ipython",
    "version": 3
   },
   "file_extension": ".py",
   "mimetype": "text/x-python",
   "name": "python",
   "nbconvert_exporter": "python",
   "pygments_lexer": "ipython3",
   "version": "3.5.2"
  }
 },
 "nbformat": 4,
 "nbformat_minor": 1
}
