{
 "cells": [
  {
   "cell_type": "markdown",
   "metadata": {},
   "source": [
    "# Setting Up\n",
    "- install font\n",
    "https://github.com/adobe-fonts/source-han-code-jp/releases/tag/2.000R\n",
    "\n",
    "- LaTeX command reference \n",
    "http://www.latex-cmd.com/"
   ]
  },
  {
   "cell_type": "markdown",
   "metadata": {},
   "source": [
    "# Machine Learning Online Class - Exercise 2: Logistic Regression\n",
    "\n",
    "##  Instructions\n",
    "\n",
    "This file contains code that helps you get started on the logistic regression exercise.  \n",
    "You will need to complete the following functions in this exericse:\n",
    "\n",
    "- sigmoid.m\n",
    "- costFunction.m\n",
    "- predict.m\n",
    "- costFunctionReg.m\n",
    "\n",
    "For this exercise, you will not need to change any code in this file, or any other files other than those mentioned above."
   ]
  },
  {
   "cell_type": "code",
   "execution_count": 261,
   "metadata": {
    "collapsed": true
   },
   "outputs": [],
   "source": [
    "%matplotlib inline\n",
    "from matplotlib import pyplot as plt, rcParams\n",
    "import pandas as pd\n",
    "from scipy import special, optimize\n",
    "import numpy as np"
   ]
  },
  {
   "cell_type": "markdown",
   "metadata": {},
   "source": [
    "# Load Data\n",
    "The first two columns contains the exam scores and the third column contains the label.\n"
   ]
  },
  {
   "cell_type": "code",
   "execution_count": 262,
   "metadata": {
    "collapsed": false
   },
   "outputs": [
    {
     "data": {
      "text/html": [
       "<div>\n",
       "<table border=\"1\" class=\"dataframe\">\n",
       "  <thead>\n",
       "    <tr style=\"text-align: right;\">\n",
       "      <th></th>\n",
       "      <th>score1</th>\n",
       "      <th>score2</th>\n",
       "      <th>admitted</th>\n",
       "    </tr>\n",
       "  </thead>\n",
       "  <tbody>\n",
       "    <tr>\n",
       "      <th>0</th>\n",
       "      <td>0.051267</td>\n",
       "      <td>0.69956</td>\n",
       "      <td>1</td>\n",
       "    </tr>\n",
       "    <tr>\n",
       "      <th>1</th>\n",
       "      <td>-0.092742</td>\n",
       "      <td>0.68494</td>\n",
       "      <td>1</td>\n",
       "    </tr>\n",
       "    <tr>\n",
       "      <th>2</th>\n",
       "      <td>-0.213710</td>\n",
       "      <td>0.69225</td>\n",
       "      <td>1</td>\n",
       "    </tr>\n",
       "    <tr>\n",
       "      <th>3</th>\n",
       "      <td>-0.375000</td>\n",
       "      <td>0.50219</td>\n",
       "      <td>1</td>\n",
       "    </tr>\n",
       "    <tr>\n",
       "      <th>4</th>\n",
       "      <td>-0.513250</td>\n",
       "      <td>0.46564</td>\n",
       "      <td>1</td>\n",
       "    </tr>\n",
       "  </tbody>\n",
       "</table>\n",
       "</div>"
      ],
      "text/plain": [
       "     score1   score2  admitted\n",
       "0  0.051267  0.69956         1\n",
       "1 -0.092742  0.68494         1\n",
       "2 -0.213710  0.69225         1\n",
       "3 -0.375000  0.50219         1\n",
       "4 -0.513250  0.46564         1"
      ]
     },
     "execution_count": 262,
     "metadata": {},
     "output_type": "execute_result"
    }
   ],
   "source": [
    "df = pd.read_csv(\"./ex2data2.txt\", names=['score1', 'score2', 'admitted'])\n",
    "df.head()"
   ]
  },
  {
   "cell_type": "code",
   "execution_count": 263,
   "metadata": {
    "collapsed": false
   },
   "outputs": [
    {
     "name": "stdout",
     "output_type": "stream",
     "text": [
      "X.shape (118, 2)\n",
      "y.shape (118, 1)\n"
     ]
    }
   ],
   "source": [
    "X = df.as_matrix([\"score1\",\"score2\"])\n",
    "y = df.as_matrix([\"admitted\"])\n",
    "\n",
    "print(\"X.shape\", X.shape)\n",
    "print(\"y.shape\", y.shape)"
   ]
  },
  {
   "cell_type": "markdown",
   "metadata": {},
   "source": [
    "# Part 1: Plotting - plotData(X, y)\n",
    "\n",
    "We start the exercise by first plotting the data to understand the problem we are working with.\n",
    "\n",
    "xlabel('Exam 1 score')\n",
    "ylabel('Exam 2 score')\n",
    "legend('Admitted', 'Not admitted')"
   ]
  },
  {
   "cell_type": "code",
   "execution_count": 264,
   "metadata": {
    "collapsed": false,
    "scrolled": true
   },
   "outputs": [
    {
     "name": "stdout",
     "output_type": "stream",
     "text": [
      "Plotting data with + indicating (y = 1) examples and o indicating (y = 0) examples.\n"
     ]
    },
    {
     "data": {
      "image/png": "[encoded data removed]",
      "text/plain": [
       "<matplotlib.figure.Figure at 0x116ff1080>"
      ]
     },
     "metadata": {},
     "output_type": "display_data"
    }
   ],
   "source": [
    "#   We start the exercise by first plotting the data to understand the problem we are working with.\n",
    "print('Plotting data with + indicating (y = 1) examples and o indicating (y = 0) examples.')\n",
    "\n",
    "def plot_data(X, y):\n",
    "    #  Find Indices of Positive and Negative Examples\n",
    "    pos = X[(y==1)[:, 0]] # (y==1)[:, 0]  :convert (m, 1) matrix to index array: (m, )\n",
    "    neg = X[(y==0)[:,0]]\n",
    "\n",
    "    plt.plot(pos[:, 0], pos[:, 1], \"o\", label=u'admitted')\n",
    "    plt.plot(neg[:, 0], neg[:, 1], \"x\", label=u'not admitted')\n",
    "    plt.xlabel('Exam 1 score')\n",
    "    plt.ylabel('Exam 2 score')\n",
    "    plt.legend()\n",
    "\n",
    "\n",
    "# call this function\n",
    "plot_data(X, y)"
   ]
  },
  {
   "cell_type": "code",
   "execution_count": 265,
   "metadata": {
    "collapsed": false,
    "scrolled": true
   },
   "outputs": [],
   "source": [
    "def sigmoid(z):\n",
    "    return 1 / (1 + np.exp(-z))"
   ]
  },
  {
   "cell_type": "code",
   "execution_count": 266,
   "metadata": {
    "collapsed": true
   },
   "outputs": [],
   "source": [
    "def map_feature(X1, X2):\n",
    "    '''\n",
    "    MAPFEATURE Feature mapping function to polynomial features\n",
    "    MAPFEATURE(X1, X2) maps the two input features to quadratic features used in the regularization exercise.\n",
    "\n",
    "    Returns a new feature array with more features, comprising of\n",
    "        X1, X2, X1.^2, X2.^2, X1*X2, X1*X2.^2, etc..\n",
    "    \n",
    "    Inputs X1, X2 must be the same size\n",
    "    '''\n",
    "    degree = 6\n",
    "    out = np.ones(shape=(X1.shape[0], 1))\n",
    "\n",
    "    for i in range(1, degree):\n",
    "        for j in  range(0, i):\n",
    "            n = np.power(X1, i - j) * np.power(X2, j)\n",
    "        out = np.hstack((out, n))\n",
    "    return out"
   ]
  },
  {
   "cell_type": "code",
   "execution_count": 267,
   "metadata": {
    "collapsed": false
   },
   "outputs": [
    {
     "name": "stdout",
     "output_type": "stream",
     "text": [
      "Cost at initial theta (zeros):  [ 0.69314718]\n"
     ]
    }
   ],
   "source": [
    "def cost_function_reg(theta, X, y, lmd):\n",
    "    m = y.shape[0]\n",
    "    hx = sigmoid(np.dot(X, theta))\n",
    "\n",
    "    regularized = lmd / (2 * m) * np.dot(theta.T, theta) \n",
    "\n",
    "    J = (1/m) * ( - np.dot(y.T, np.log(hx)) - np.dot((1 - y).T, np.log(1 - hx))) + regularized\n",
    "    return J.flatten()\n",
    "\n",
    "def gradient_descent(theta, X, y, lmd):\n",
    "    m = y.shape[0] # number of training examples\n",
    "    hx = sigmoid(X.dot(theta))\n",
    "    grad = (1/m) * np.dot(X.T, (hx -  y)) + lmd/m * theta\n",
    "    return grad.flatten() # return must be a vector , admitting to bfgc\n",
    "\n",
    "\n",
    "X_m = map_feature(X[:, 0:1], X[:, 1:2])\n",
    "(m, n) = X_m.shape\n",
    "\n",
    "initial_theta = np.zeros(shape=(n, 1))\n",
    "lmd = 1\n",
    "\n",
    "cost = cost_function_reg(initial_theta, X_m, y, lmd)\n",
    "grad = gradient_descent(initial_theta, X_m, y, lmd)\n",
    "\n",
    "print('Cost at initial theta (zeros): ', cost)"
   ]
  },
  {
   "cell_type": "code",
   "execution_count": 268,
   "metadata": {
    "collapsed": false,
    "scrolled": false
   },
   "outputs": [],
   "source": [
    "def plot_decision_boundary(theta, X, y):\n",
    "    plot_data(X[:, (1,2)], y)\n",
    "    \n",
    "    if (X.shape[1] <= 3):\n",
    "        # Only need 2 points to define a line, so choose two endpoints\n",
    "        plot_x = np.array([np.min(X[:,1])-2,  np.max(X[:,1])+2])\n",
    "\n",
    "        # Calculate the decision boundary line\n",
    "        plot_y = (-1 / theta[2]) * (theta[1] * plot_x + theta[0])\n",
    "                \n",
    "        # Plot, and adjust axes for better viewing\n",
    "        plt.plot(plot_x, plot_y, '-g', label='Decision Boundary')    \n",
    "        plt.legend()\n",
    "        plt.axis([30, 100, 30, 100])\n",
    "\n",
    "    else:\n",
    "        # Here is the grid range\n",
    "        u = np.linspace(-1, 1.5, num=50)\n",
    "        v = np.linspace(-1, 1.5, num=50)\n",
    "\n",
    "        z = np.zeros((u.size, v.size))\n",
    "\n",
    "        # Evaluate z = theta*x over the grid\n",
    "        for i in range(1, u.size):\n",
    "            for j in range(1, v.size):\n",
    "                z[i, j] = map_feature(u[i], v[j]) * theta\n",
    "\n",
    "        z = z.T #important to transpose z before calling contour\n",
    "        plt.contour(u, v, z)        #  http://ailaby.com/contour/\n",
    "        plt.show()"
   ]
  },
  {
   "cell_type": "markdown",
   "metadata": {},
   "source": [
    "# Part 2: Regularization and Accuracies\n",
    "\n",
    "Optional Exercise:\n",
    "In this part, you will get to try different values of lambda \n",
    "and see how regularization affects the decision coundart\n",
    "Try the following values of lambda (0, 1, 10, 100).\n",
    "\n",
    "How does the decision boundary change when you vary lambda? \n",
    "How does the training set accuracy vary?\n"
   ]
  },
  {
   "cell_type": "code",
   "execution_count": 269,
   "metadata": {
    "collapsed": false
   },
   "outputs": [
    {
     "name": "stdout",
     "output_type": "stream",
     "text": [
      "Cost at theta found by fminunc: 0.6876771202321366\n",
      "theta: [-0.02987712 -0.16033756 -0.44740792 -0.27865103  0.1028776  -0.13501191]\n"
     ]
    }
   ],
   "source": [
    "(m, n) = X_m.shape\n",
    "#  Initialize fitting parameters\n",
    "initial_theta = np.zeros(shape=(n, 1)) # print(initial_theta.shape) # (16, 1)\n",
    "\n",
    "#  Set regularization parameter lambda to 1 (you should vary this)\n",
    "lmd = 1\n",
    "\n",
    "# Run fminunc to obtain the optimal theta \n",
    "cf = lambda t: cost_function_reg(t, X_m, y, lmd)\n",
    "grad = lambda t: gradient_descent(t, X_m, y, lmd)\n",
    "\n",
    "# res = optimize.minimize(cf, initial_theta, method='BFGS', jac=grad, options={'maxiter': 400})\n",
    "res = optimize.minimize(cf, initial_theta,  options={'maxiter': 400})\n",
    "\n",
    "# Print theta to screen\n",
    "print('Cost at theta found by fminunc: {0}'.format(res.fun))\n",
    "print('theta:', res.x)\n",
    "theta = res.x"
   ]
  },
  {
   "cell_type": "code",
   "execution_count": 270,
   "metadata": {
    "collapsed": false
   },
   "outputs": [
    {
     "ename": "IndexError",
     "evalue": "tuple index out of range",
     "output_type": "error",
     "traceback": [
      "\u001b[0;31m---------------------------------------------------------------------------\u001b[0m",
      "\u001b[0;31mIndexError\u001b[0m                                Traceback (most recent call last)",
      "\u001b[0;32m<ipython-input-270-76ce37abd9d3>\u001b[0m in \u001b[0;36m<module>\u001b[0;34m()\u001b[0m\n\u001b[0;32m----> 1\u001b[0;31m \u001b[0mplot_decision_boundary\u001b[0m\u001b[0;34m(\u001b[0m\u001b[0mtheta\u001b[0m\u001b[0;34m,\u001b[0m \u001b[0mX_m\u001b[0m\u001b[0;34m,\u001b[0m \u001b[0my\u001b[0m\u001b[0;34m)\u001b[0m\u001b[0;34m\u001b[0m\u001b[0m\n\u001b[0m",
      "\u001b[0;32m<ipython-input-268-3d6813ed42c4>\u001b[0m in \u001b[0;36mplot_decision_boundary\u001b[0;34m(theta, X, y)\u001b[0m\n\u001b[1;32m     24\u001b[0m         \u001b[0;32mfor\u001b[0m \u001b[0mi\u001b[0m \u001b[0;32min\u001b[0m \u001b[0mrange\u001b[0m\u001b[0;34m(\u001b[0m\u001b[0;36m1\u001b[0m\u001b[0;34m,\u001b[0m \u001b[0mu\u001b[0m\u001b[0;34m.\u001b[0m\u001b[0msize\u001b[0m\u001b[0;34m)\u001b[0m\u001b[0;34m:\u001b[0m\u001b[0;34m\u001b[0m\u001b[0m\n\u001b[1;32m     25\u001b[0m             \u001b[0;32mfor\u001b[0m \u001b[0mj\u001b[0m \u001b[0;32min\u001b[0m \u001b[0mrange\u001b[0m\u001b[0;34m(\u001b[0m\u001b[0;36m1\u001b[0m\u001b[0;34m,\u001b[0m \u001b[0mv\u001b[0m\u001b[0;34m.\u001b[0m\u001b[0msize\u001b[0m\u001b[0;34m)\u001b[0m\u001b[0;34m:\u001b[0m\u001b[0;34m\u001b[0m\u001b[0m\n\u001b[0;32m---> 26\u001b[0;31m                 \u001b[0mz\u001b[0m\u001b[0;34m[\u001b[0m\u001b[0mi\u001b[0m\u001b[0;34m,\u001b[0m \u001b[0mj\u001b[0m\u001b[0;34m]\u001b[0m \u001b[0;34m=\u001b[0m \u001b[0mmap_feature\u001b[0m\u001b[0;34m(\u001b[0m\u001b[0mu\u001b[0m\u001b[0;34m[\u001b[0m\u001b[0mi\u001b[0m\u001b[0;34m]\u001b[0m\u001b[0;34m,\u001b[0m \u001b[0mv\u001b[0m\u001b[0;34m[\u001b[0m\u001b[0mj\u001b[0m\u001b[0;34m]\u001b[0m\u001b[0;34m)\u001b[0m \u001b[0;34m*\u001b[0m \u001b[0mtheta\u001b[0m\u001b[0;34m\u001b[0m\u001b[0m\n\u001b[0m\u001b[1;32m     27\u001b[0m \u001b[0;34m\u001b[0m\u001b[0m\n\u001b[1;32m     28\u001b[0m         \u001b[0mz\u001b[0m \u001b[0;34m=\u001b[0m \u001b[0mz\u001b[0m\u001b[0;34m.\u001b[0m\u001b[0mT\u001b[0m \u001b[0;31m#important to transpose z before calling contour\u001b[0m\u001b[0;34m\u001b[0m\u001b[0m\n",
      "\u001b[0;32m<ipython-input-266-4100b63795f3>\u001b[0m in \u001b[0;36mmap_feature\u001b[0;34m(X1, X2)\u001b[0m\n\u001b[1;32m     10\u001b[0m     '''\n\u001b[1;32m     11\u001b[0m     \u001b[0mdegree\u001b[0m \u001b[0;34m=\u001b[0m \u001b[0;36m6\u001b[0m\u001b[0;34m\u001b[0m\u001b[0m\n\u001b[0;32m---> 12\u001b[0;31m     \u001b[0mout\u001b[0m \u001b[0;34m=\u001b[0m \u001b[0mnp\u001b[0m\u001b[0;34m.\u001b[0m\u001b[0mones\u001b[0m\u001b[0;34m(\u001b[0m\u001b[0mshape\u001b[0m\u001b[0;34m=\u001b[0m\u001b[0;34m(\u001b[0m\u001b[0mX1\u001b[0m\u001b[0;34m.\u001b[0m\u001b[0mshape\u001b[0m\u001b[0;34m[\u001b[0m\u001b[0;36m0\u001b[0m\u001b[0;34m]\u001b[0m\u001b[0;34m,\u001b[0m \u001b[0;36m1\u001b[0m\u001b[0;34m)\u001b[0m\u001b[0;34m)\u001b[0m\u001b[0;34m\u001b[0m\u001b[0m\n\u001b[0m\u001b[1;32m     13\u001b[0m \u001b[0;34m\u001b[0m\u001b[0m\n\u001b[1;32m     14\u001b[0m     \u001b[0;32mfor\u001b[0m \u001b[0mi\u001b[0m \u001b[0;32min\u001b[0m \u001b[0mrange\u001b[0m\u001b[0;34m(\u001b[0m\u001b[0;36m1\u001b[0m\u001b[0;34m,\u001b[0m \u001b[0mdegree\u001b[0m\u001b[0;34m)\u001b[0m\u001b[0;34m:\u001b[0m\u001b[0;34m\u001b[0m\u001b[0m\n",
      "\u001b[0;31mIndexError\u001b[0m: tuple index out of range"
     ]
    },
    {
     "data": {
      "image/png": "[encoded data removed]",
      "text/plain": [
       "<matplotlib.figure.Figure at 0x117bcdda0>"
      ]
     },
     "metadata": {},
     "output_type": "display_data"
    }
   ],
   "source": [
    "plot_decision_boundary(theta, X_m, y)"
   ]
  },
  {
   "cell_type": "code",
   "execution_count": 271,
   "metadata": {
    "collapsed": false
   },
   "outputs": [
    {
     "name": "stdout",
     "output_type": "stream",
     "text": [
      "Train Accuracy: 50.21545532892847\n"
     ]
    }
   ],
   "source": [
    "def predict(theta_cv, X):\n",
    "    m, n = X.shape # Number of training examples\n",
    "\n",
    "    # You need to return the following variables correctly\n",
    "    p = np.zeros(shape=(m, 1))\n",
    "\n",
    "    return sigmoid(np.dot(X, theta_cv)) >= 0.5\n",
    "\n",
    "# Compute accuracy on our training set\n",
    "p = predict(theta, X_m) \n",
    "\n",
    "print('Train Accuracy: {0}'.format(np.mean(p == y) * 100))"
   ]
  },
  {
   "cell_type": "code",
   "execution_count": null,
   "metadata": {
    "collapsed": true
   },
   "outputs": [],
   "source": [
    "\n",
    "#  Plot Boundary\n",
    "# plotDecisionBoundary(theta, X, y);\n",
    "# hold on;\n",
    "# title(sprintf('lambda = %g', lambda))\n",
    "\n",
    "# Labels and Legend\n",
    "# xlabel('Microchip Test 1')\n",
    "# ylabel('Microchip Test 2')\n",
    "# legend('y = 1', 'y = 0', 'Decision boundary')\n",
    "\n",
    "# Compute accuracy on our training set\n",
    "# p = predict(theta, X);\n",
    "\n",
    "# print('Train Accuracy: ', np.mean(double(p == y)) * 100)"
   ]
  }
 ],
 "metadata": {
  "anaconda-cloud": {},
  "celltoolbar": "Raw Cell Format",
  "kernelspec": {
   "display_name": "Python [default]",
   "language": "python",
   "name": "python3"
  },
  "language_info": {
   "codemirror_mode": {
    "name": "ipython",
    "version": 3
   },
   "file_extension": ".py",
   "mimetype": "text/x-python",
   "name": "python",
   "nbconvert_exporter": "python",
   "pygments_lexer": "ipython3",
   "version": "3.5.2"
  }
 },
 "nbformat": 4,
 "nbformat_minor": 1
}
