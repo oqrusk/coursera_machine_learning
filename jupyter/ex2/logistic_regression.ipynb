{
 "cells": [
  {
   "cell_type": "markdown",
   "metadata": {},
   "source": [
    "# Setting Up\n",
    "- install font\n",
    "https://github.com/adobe-fonts/source-han-code-jp/releases/tag/2.000R\n",
    "\n",
    "- LaTeX command reference \n",
    "http://www.latex-cmd.com/"
   ]
  },
  {
   "cell_type": "markdown",
   "metadata": {},
   "source": [
    "# Machine Learning Online Class - Exercise 2: Logistic Regression\n",
    "\n",
    "##  Instructions\n",
    "\n",
    "This file contains code that helps you get started on the logistic regression exercise.  \n",
    "You will need to complete the following functions in this exericse:\n",
    "\n",
    "- sigmoid.m\n",
    "- costFunction.m\n",
    "- predict.m\n",
    "- costFunctionReg.m\n",
    "\n",
    "For this exercise, you will not need to change any code in this file, or any other files other than those mentioned above."
   ]
  },
  {
   "cell_type": "code",
   "execution_count": 20,
   "metadata": {
    "collapsed": true
   },
   "outputs": [],
   "source": [
    "%matplotlib inline\n",
    "from matplotlib import pyplot as plt, rcParams\n",
    "import pandas as pd\n",
    "from scipy import special, optimize\n",
    "import numpy as np"
   ]
  },
  {
   "cell_type": "markdown",
   "metadata": {},
   "source": [
    "# Load Data\n",
    "The first two columns contains the exam scores and the third column contains the label.\n"
   ]
  },
  {
   "cell_type": "code",
   "execution_count": 21,
   "metadata": {
    "collapsed": false
   },
   "outputs": [
    {
     "data": {
      "text/html": [
       "<div>\n",
       "<table border=\"1\" class=\"dataframe\">\n",
       "  <thead>\n",
       "    <tr style=\"text-align: right;\">\n",
       "      <th></th>\n",
       "      <th>score1</th>\n",
       "      <th>score2</th>\n",
       "      <th>admitted</th>\n",
       "    </tr>\n",
       "  </thead>\n",
       "  <tbody>\n",
       "    <tr>\n",
       "      <th>0</th>\n",
       "      <td>34.623660</td>\n",
       "      <td>78.024693</td>\n",
       "      <td>0</td>\n",
       "    </tr>\n",
       "    <tr>\n",
       "      <th>1</th>\n",
       "      <td>30.286711</td>\n",
       "      <td>43.894998</td>\n",
       "      <td>0</td>\n",
       "    </tr>\n",
       "    <tr>\n",
       "      <th>2</th>\n",
       "      <td>35.847409</td>\n",
       "      <td>72.902198</td>\n",
       "      <td>0</td>\n",
       "    </tr>\n",
       "    <tr>\n",
       "      <th>3</th>\n",
       "      <td>60.182599</td>\n",
       "      <td>86.308552</td>\n",
       "      <td>1</td>\n",
       "    </tr>\n",
       "    <tr>\n",
       "      <th>4</th>\n",
       "      <td>79.032736</td>\n",
       "      <td>75.344376</td>\n",
       "      <td>1</td>\n",
       "    </tr>\n",
       "  </tbody>\n",
       "</table>\n",
       "</div>"
      ],
      "text/plain": [
       "      score1     score2  admitted\n",
       "0  34.623660  78.024693         0\n",
       "1  30.286711  43.894998         0\n",
       "2  35.847409  72.902198         0\n",
       "3  60.182599  86.308552         1\n",
       "4  79.032736  75.344376         1"
      ]
     },
     "execution_count": 21,
     "metadata": {},
     "output_type": "execute_result"
    }
   ],
   "source": [
    "df = pd.read_csv(\"./ex2data1.txt\", names=['score1', 'score2', 'admitted'])\n",
    "df.head()"
   ]
  },
  {
   "cell_type": "code",
   "execution_count": 22,
   "metadata": {
    "collapsed": false
   },
   "outputs": [
    {
     "name": "stdout",
     "output_type": "stream",
     "text": [
      "X.shape:  (100, 2)\n",
      "y.shape:  (100, 1)\n"
     ]
    }
   ],
   "source": [
    "X = df.as_matrix([\"score1\",\"score2\"])\n",
    "y = df.as_matrix([\"admitted\"])\n",
    "\n",
    "print(\"X.shape: \", X.shape)\n",
    "print(\"y.shape: \", y.shape)"
   ]
  },
  {
   "cell_type": "markdown",
   "metadata": {},
   "source": [
    "# Part 1: Plotting - plotData(X, y)\n",
    "\n",
    "We start the exercise by first plotting the data to understand the problem we are working with.\n",
    "\n",
    "xlabel('Exam 1 score')\n",
    "ylabel('Exam 2 score')\n",
    "legend('Admitted', 'Not admitted')"
   ]
  },
  {
   "cell_type": "code",
   "execution_count": 23,
   "metadata": {
    "collapsed": false,
    "scrolled": true
   },
   "outputs": [
    {
     "name": "stdout",
     "output_type": "stream",
     "text": [
      "Plotting data with + indicating (y = 1) examples and o indicating (y = 0) examples.\n"
     ]
    },
    {
     "data": {
      "image/png": "[encoded data removed]",
      "text/plain": [
       "<matplotlib.figure.Figure at 0x117477ba8>"
      ]
     },
     "metadata": {},
     "output_type": "display_data"
    }
   ],
   "source": [
    "#   We start the exercise by first plotting the data to understand the problem we are working with.\n",
    "print('Plotting data with + indicating (y = 1) examples and o indicating (y = 0) examples.')\n",
    "\n",
    "def plot_data(X, y):\n",
    "    ''' ====================== YOUR CODE HERE ======================\n",
    "    Instructions: Plot the positive and negative examples on a 2D plot, \n",
    "    using the option 'o' for the positive examples and 'x' for the negative examples.\n",
    "    '''\n",
    "\n",
    "    #  Find Indices of Positive and Negative Examples\n",
    "    pos = X[(y==1)[:, 0]] # (y==1)[:, 0]  :convert (m, 1) matrix to index array: (m, )\n",
    "    neg = X[(y==0)[:,0]]\n",
    "\n",
    "    plt.plot(pos[:, 0], pos[:, 1], \"o\", label=u'admitted')\n",
    "    plt.plot(neg[:, 0], neg[:, 1], \"x\", label=u'not admitted')\n",
    "    plt.xlabel('Exam 1 score')\n",
    "    plt.ylabel('Exam 2 score')\n",
    "    plt.legend()\n",
    "\n",
    "\n",
    "# call this function\n",
    "plot_data(X, y)"
   ]
  },
  {
   "cell_type": "markdown",
   "metadata": {},
   "source": [
    "# 1.2 Impletementation\n",
    "## 1.2.1 Warm upexercise: sigmoid function\n",
    "\n",
    "\n",
    "\\begin{align}\n",
    "h_\\theta(x)=g(\\theta^Tx)\n",
    "\\end{align}\n",
    "\n",
    "where function g is the sigmoid function. The sigmoid function is defined as:\n",
    "\n",
    "\\begin{align}\n",
    "g(x)=\\frac{1}{(1+\\mathrm{e}^{-x})}\n",
    "\\end{align}\n",
    "\n",
    "Your first step is to implement this function in sigmoid.m so it can be called by the rest of your program. When you are finished, try testing a few values by calling sigmoid(x) at the Octave/MATLAB command line. For large positive values of x, the sigmoid should be close to 1, while for large negative values, the sigmoid should be close to 0. Evaluating sigmoid(0) should give you exactly 0.5. Your code should also work with vectors and matrices. For a matrix, your function should perform the sigmoid function on every element."
   ]
  },
  {
   "cell_type": "code",
   "execution_count": 24,
   "metadata": {
    "collapsed": false,
    "scrolled": true
   },
   "outputs": [
    {
     "name": "stdout",
     "output_type": "stream",
     "text": [
      "0.5\n",
      "[ 1.          0.5         0.81757444  0.52497917  0.00669285]\n",
      "[[ 1.          0.5         0.81757444  0.52497917  0.00669285]\n",
      " [ 1.          0.5         0.81757444  0.52497917  0.00669285]]\n"
     ]
    }
   ],
   "source": [
    "def sigmoid(z):\n",
    "    return 1 / (1 + np.exp(-z))\n",
    "\n",
    "print(sigmoid(0)) # scalar\n",
    "print(sigmoid(np.array([100, 0, 1.5, 0.1 , -5 ], dtype='f'))) # vector \n",
    "print(sigmoid(np.array([np.array([100, 0, 1.5, 0.1 , -5 ], dtype='f'),np.array([100, 0, 1.5, 0.1 , -5 ], dtype='f')]))) # matrix"
   ]
  },
  {
   "cell_type": "markdown",
   "metadata": {},
   "source": [
    "## 1.2.2 Cost function and gradient\n",
    "\n",
    "Now you will implement the cost function and gradient for logistic regression. Complete the code in costFunction.m to return the cost and gradient.\n",
    "\n",
    "Recall that the cost function in logistic regression is\n",
    "\n",
    "\n",
    "\\begin{align}\n",
    "J(\\theta) = \\frac{1}m \\sum_{i=1}^m [ - y^{(i)} log(h_\\theta(x^{(i)}))- (1- y^{(i)}) log(1 - h_\\theta(x^{(i)}))]\n",
    "\\end{align}\n",
    "\n",
    "\n",
    "and the gradient of the cost is a vector of the same length as θ where the jth element (for j = 0,1,...,n) is defined as follows:\n",
    "\n",
    "\\begin{align}\n",
    "\\frac{\\partial J(\\theta)}{\\partial \\theta_j} = \\frac{1}m \\sum_{i=1}^m(h_\\theta(x^{(i)}) - y^{(i)})x_j^{(i)}\n",
    "\\end{align}"
   ]
  },
  {
   "cell_type": "markdown",
   "metadata": {},
   "source": [
    "# Part 2: Compute Cost and Gradient\n",
    "\n",
    "In this part of the exercise, you will implement the cost and gradient for logistic regression. \n"
   ]
  },
  {
   "cell_type": "code",
   "execution_count": 25,
   "metadata": {
    "collapsed": false
   },
   "outputs": [
    {
     "name": "stdout",
     "output_type": "stream",
     "text": [
      "X_i:  (100, 3)\n",
      "Cost at initial theta (zeros): [ 0.69314718]\n",
      "Gradient at initial theta (zeros):  [ -0.1        -12.00921659 -11.26284221]\n"
     ]
    }
   ],
   "source": [
    "'''\n",
    "====================== YOUR CODE HERE ======================\n",
    "Instructions: Compute the cost of a particular choice of theta.\n",
    "You should set J to the cost.\n",
    "Compute the partial derivatives and set grad to the partial derivatives of the cost w.r.t. each parameter in theta\n",
    "\n",
    "Note: grad should have the same dimensions as theta\n",
    "'''\n",
    "\n",
    "def cost_function(theta, X, y):\n",
    "    \"\"\"\n",
    "    COSTFUNCTION Compute cost and gradient for logistic regression\n",
    "    J = COSTFUNCTION(theta, X, y) computes the cost of using theta as the parameter for logistic regression \n",
    "    and the gradient of the cost w.r.t. to the parameters.\n",
    "    \"\"\"\n",
    "    m = y.shape[0] # number of training examples\n",
    "    if len(theta.shape) == 1:\n",
    "        theta = theta[:, np.newaxis]\n",
    "    hx = sigmoid(X.dot(theta))\n",
    "\n",
    "    \n",
    "    '''\n",
    "    print('init_theta: ', theta.shape)\n",
    "    print('X: ', X.shape)\n",
    "    print(\"hx shape\", hx.shape)\n",
    "    print(\"y shape\", y.shape)\n",
    "    print(\"theta shape\", theta.shape)\n",
    "    '''\n",
    "    J = (1/m) * ( - np.dot(y.T, np.log(hx)) - np.dot((1 - y).T, np.log(1 - hx)))\n",
    "#     print('J', J.shape)\n",
    "    return J.flatten()\n",
    "\n",
    "def gradient_descent(theta, X, y):\n",
    "    m = y.shape[0] # number of training examples\n",
    "    hx = sigmoid(X.dot(theta))\n",
    "    grad = (1/m) * X.T.dot((hx -  y))\n",
    "#     print('grad', grad.shape)\n",
    "    return grad.flatten() # return must be a vector , admitting to bfgc\n",
    "    \n",
    "\n",
    "#  Setup the data matrix appropriately, and add ones for the intercept term\n",
    "(m, n) = X.shape\n",
    "\n",
    "# Add intercept term to x and X_test\n",
    "ones = np.ones(shape=(m, 1))\n",
    "X_i = np.concatenate((ones,  X), axis=1)\n",
    "print(\"X_i: \" ,X_i.shape)\n",
    "# Initialize fitting parameters\n",
    "initial_theta = np.zeros(shape=(n + 1, 1))\n",
    "\n",
    "# Compute and display initial cost and gradient\n",
    "cost = cost_function(initial_theta, X_i, y)\n",
    "grad = gradient_descent(initial_theta, X_i, y)\n",
    "\n",
    "print('Cost at initial theta (zeros): {0}'.format(cost))\n",
    "print('Gradient at initial theta (zeros): ', grad)"
   ]
  },
  {
   "cell_type": "markdown",
   "metadata": {
    "collapsed": true
   },
   "source": [
    "# 1.2.3 Learning parameters using fminunc\n",
    "\n",
    "In the previous assignment, you found the optimal parameters of a linear regression model by implementing gradent descent. You wrote a cost function and calculated its gradient, then took a gradient descent step accordingly. This time, instead of taking gradient descent steps, you will use an Octave/- MATLAB built-in function called fminunc.\n",
    "\n",
    "Octave/MATLAB’s fminunc is an optimization solver that finds the min- imum of an unconstrained2 function. For logistic regression, you want to optimize the cost function J(θ) with parameters θ.\n",
    "Concretely, you are going to use fminunc to find the best parameters θ for the logistic regression cost function, given a fixed dataset (of X and y values). You will pass to fminunc the following inputs:\n",
    "\n",
    "- The initial values of the parameters we are trying to optimize.\n",
    "- A function that, when given the training set and a particular θ, computes the logistic regression cost and gradient with respect to θ for the dataset (X, y)\n",
    "\n",
    "In ex2.m, we already have code written to call fminunc with the correct arguments."
   ]
  },
  {
   "cell_type": "code",
   "execution_count": 26,
   "metadata": {
    "collapsed": true
   },
   "outputs": [],
   "source": [
    "def map_feature(X1, X2):\n",
    "    '''\n",
    "    MAPFEATURE Feature mapping function to polynomial features\n",
    "    MAPFEATURE(X1, X2) maps the two input features to quadratic features used in the regularization exercise.\n",
    "\n",
    "    Returns a new feature array with more features, comprising of\n",
    "        X1, X2, X1.^2, X2.^2, X1*X2, X1*X2.^2, etc..\n",
    "    \n",
    "    Inputs X1, X2 must be the same size\n",
    "    '''\n",
    "    \n",
    "    degree = 6\n",
    "    out = np.ones((X1.shape[0], 1))\n",
    "\n",
    "    for i in range(1, degree):\n",
    "        for j in  range(0, i):\n",
    "            n = np.power(X1, i - j) * np.power(X2, j)\n",
    "            out = np.hstack((out, n))\n",
    "    return out"
   ]
  },
  {
   "cell_type": "markdown",
   "metadata": {},
   "source": [
    "# Part 3: Optimizing using fminunc \n",
    "\n",
    "In this exercise, you will use a built-in function (fminunc) to find the optimal parameters theta."
   ]
  },
  {
   "cell_type": "code",
   "execution_count": 27,
   "metadata": {
    "collapsed": false,
    "scrolled": false
   },
   "outputs": [
    {
     "name": "stdout",
     "output_type": "stream",
     "text": [
      "Cost at theta found by fminunc: [ nan]\n",
      "theta: [   6.28160472  754.37095671  707.48666327]\n"
     ]
    },
    {
     "data": {
      "image/png": "[encoded data removed]",
      "text/plain": [
       "<matplotlib.figure.Figure at 0x117217c18>"
      ]
     },
     "metadata": {},
     "output_type": "display_data"
    }
   ],
   "source": [
    "def plot_decision_boundary(theta, X, y):\n",
    "    '''\n",
    "    PLOTDECISIONBOUNDARY Plots the data points X and y into a new figure with the decision boundary defined by theta\n",
    "    PLOTDECISIONBOUNDARY(theta, X,y) plots the data points with o for the positive examples and x for the negative examples. \n",
    "\n",
    "    X is assumed to be a either     \n",
    "    1) Mx3 matrix, where the first column is an all-ones column for the intercept.\n",
    "    2) MxN, N>3 matrix, where the first column is all-ones    \n",
    "    '''\n",
    "    \n",
    "    plot_data(X[:,(1,2)], y)\n",
    "    \n",
    "    if (X.shape[1] <= 3):\n",
    "        # Only need 2 points to define a line, so choose two endpoints\n",
    "        plot_x = np.array([np.min(X[:,1])-2,  np.max(X[:,1])+2])\n",
    "\n",
    "        # Calculate the decision boundary line\n",
    "        plot_y = (-1 / theta[2]) * (theta[1] * plot_x + theta[0])\n",
    "                \n",
    "        # Plot, and adjust axes for better viewing\n",
    "        plt.plot(plot_x, plot_y, '-g', label='Decision Boundary')    \n",
    "        plt.legend()\n",
    "        plt.axis([30, 100, 30, 100])\n",
    "\n",
    "    else:\n",
    "        # Here is the grid range\n",
    "        u = np.linspace(-1, 1.5, num=50)\n",
    "        v = np.linspace(-1, 1.5, num=50)\n",
    "\n",
    "        z = np.zeros((u.size, v.size))\n",
    "\n",
    "        # Evaluate z = theta*x over the grid\n",
    "        for i in range(1, u.size):\n",
    "            for j in range(1, v.size):\n",
    "                z[i, j] = map_feature(u[i], v[j]) * theta\n",
    "\n",
    "        z = z.T #important to transpose z before calling contour\n",
    "        \n",
    "        # contour(u, v, z, [0, 0], 'LineWidth', 2)        \n",
    "        plt.contour(u, v, z)        #  http://ailaby.com/contour/\n",
    "        plt.show()\n",
    "\n",
    "\n",
    "# Run fminunc to obtain the optimal theta \n",
    "cf = lambda t: cost_function(t, X_i, y)\n",
    "grad = lambda t: gradient_descent(t, X_i, y)\n",
    "\n",
    "# res = optimize.minimize(cf, initial_theta, method='BFGS', jac=grad, options={'maxiter': 400})\n",
    "res = optimize.minimize(cf, initial_theta,  options={'maxiter': 400})\n",
    "\n",
    "# Print theta to screen\n",
    "print('Cost at theta found by fminunc: {0}'.format(res.fun))\n",
    "print('theta:', res.x)\n",
    "theta = res.x\n",
    "\n",
    "# Plot Boundary\n",
    "plot_decision_boundary(theta, X_i, y)\n"
   ]
  },
  {
   "cell_type": "markdown",
   "metadata": {
    "collapsed": true
   },
   "source": [
    "# Part 4: Predict and Accuracies\n",
    "After learning the parameters, you'll like to use it to predict the outcomes on unseen data. \n",
    "In this part, you will use the logistic regression model to predict the probability that a student with score 45 on exam 1 and score 85 on exam 2 will be admitted.\n",
    "\n",
    "Furthermore, you will compute the training and test set accuracies of our model.\n",
    "\n",
    "Your task is to complete the code in predict.m\n",
    "\n",
    "Predict probability for a student with score 45 on exam 1 and score 85 on exam 2 \n"
   ]
  },
  {
   "cell_type": "code",
   "execution_count": 28,
   "metadata": {
    "collapsed": false
   },
   "outputs": [
    {
     "name": "stdout",
     "output_type": "stream",
     "text": [
      "For a student with scores 45 and 85, we predict an admission probability of [ 1.]\n",
      "Train Accuracy: 60.0\n"
     ]
    }
   ],
   "source": [
    "def predict(theta_cv, X):\n",
    "    '''\n",
    "    PREDICT Predict whether the label is 0 or 1 using learned logistic regression parameters theta\n",
    "    p = PREDICT(theta, X) computes the predictions for X using a threshold at 0.5 \n",
    "    (i.e., if sigmoid(theta'*x) >= 0.5, predict 1)\n",
    "    '''\n",
    "    \n",
    "    m = X_i.shape[0] # Number of training examples\n",
    "\n",
    "    # You need to return the following variables correctly\n",
    "    p = np.zeros((m, 1))\n",
    "    \n",
    "    '''\n",
    "    ====================== YOUR CODE HERE ======================\n",
    "    Instructions: Complete the following code to make predictions using your learned logistic regression parameters. \n",
    "        You should set p to a vector of 0's and 1's\n",
    "    '''\n",
    "\n",
    "    return sigmoid(np.dot(X, theta_cv)) >= 0.5\n",
    "\n",
    "\n",
    "'''\n",
    "numpy distinguish vector from matrix \n",
    "so you have to adjust shpae to caluculate inner product.\n",
    "cf) http://sucrose.hatenablog.com/entry/2013/03/16/162019\n",
    "'''\n",
    "sample_rv = np.array([1, 45, 85], ndmin=2) # (1 3) row vector\n",
    "theta_cv = np.array(theta, ndmin=2).T   # (3 1) column vector\n",
    "\n",
    "prob = sigmoid(np.dot(sample_rv, theta_cv))\n",
    "print(\"For a student with scores 45 and 85, we predict an admission probability of {0}\".format(prob.flatten()))\n",
    "\n",
    "# Compute accuracy on our training set\n",
    "p = predict(theta_cv, X_i) # (True == 1 / False == 0)\n",
    "\n",
    "print('Train Accuracy: {0}'.format(np.mean(p == y) * 100))"
   ]
  },
  {
   "cell_type": "code",
   "execution_count": null,
   "metadata": {
    "collapsed": true
   },
   "outputs": [],
   "source": []
  }
 ],
 "metadata": {
  "anaconda-cloud": {},
  "celltoolbar": "Raw Cell Format",
  "kernelspec": {
   "display_name": "Python [default]",
   "language": "python",
   "name": "python3"
  },
  "language_info": {
   "codemirror_mode": {
    "name": "ipython",
    "version": 3
   },
   "file_extension": ".py",
   "mimetype": "text/x-python",
   "name": "python",
   "nbconvert_exporter": "python",
   "pygments_lexer": "ipython3",
   "version": "3.5.2"
  }
 },
 "nbformat": 4,
 "nbformat_minor": 1
}
