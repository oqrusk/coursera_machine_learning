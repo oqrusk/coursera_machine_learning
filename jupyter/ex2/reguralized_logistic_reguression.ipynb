{
 "cells": [
  {
   "cell_type": "code",
   "execution_count": 13,
   "metadata": {},
   "outputs": [],
   "source": [
    "%matplotlib inline\n",
    "from matplotlib import pyplot as plt, rcParams\n",
    "import pandas as pd\n",
    "from scipy import special, optimize\n",
    "import numpy as np"
   ]
  },
  {
   "cell_type": "code",
   "execution_count": null,
   "metadata": {
    "collapsed": true
   },
   "outputs": [],
   "source": [
    "# a = np.arange(0, 40, 10)\n",
    "# print(a.shape)\n",
    "# print(a)\n",
    "# k = np.ones((a.shape[0], ))\n",
    "\n",
    "# b= np.stack((a, k), axis=-1)\n",
    "# print(b.shape)\n",
    "# print(b)\n",
    "\n",
    "# c = np.append(a, k)\n",
    "# print(c.shape)\n",
    "# print(c)\n",
    "\n",
    "# x = a[:, np.newaxis]\n",
    "# y = np.ones((a.shape[0], 1))\n",
    "# d = np.concatenate((y, x), axis=1)\n",
    "# print(d.shape)\n",
    "# print(d)\n",
    "\n",
    "\n",
    "# # ベクトルと　行列の扱いが違うのがメンドイ。\n",
    "# outa = np.ones((X.shape[0], ))\n",
    "# print(outa[:4])\n",
    "\n",
    "# print('X[:, 0]:shape', X[:, 0].shape)\n",
    "# out = np.ones((X.shape[0], 1))\n",
    "\n",
    "# print(out[:4])\n",
    "# # print('out:shape', out.shape)\n",
    "# # np.hsplit(X, 2)\n",
    "\n",
    "\n"
   ]
  },
  {
   "cell_type": "markdown",
   "metadata": {},
   "source": [
    "# Machine Learning Online Class - Exercise 2: Logistic Regression\n",
    "\n",
    "Instructions\n",
    "\n",
    "\n",
    "This file contains code that helps you get started on the second part of the exercise which covers regularization with logistic regression.\n",
    "\n",
    "You will need to complete the following functions in this exericse:\n",
    "\n",
    "- sigmoid.m\n",
    "- costFunction.m\n",
    "- predict.m\n",
    "- costFunctionReg.m\n",
    "\n",
    "For this exercise, you will not need to change any code in this file, or any other files other than those mentioned above.\n"
   ]
  },
  {
   "cell_type": "markdown",
   "metadata": {},
   "source": [
    "# Load Data\n",
    "The first two columns contains the X values and the third column contains the label (y)."
   ]
  },
  {
   "cell_type": "code",
   "execution_count": 14,
   "metadata": {},
   "outputs": [
    {
     "data": {
      "text/html": [
       "<div>\n",
       "<style>\n",
       "    .dataframe thead tr:only-child th {\n",
       "        text-align: right;\n",
       "    }\n",
       "\n",
       "    .dataframe thead th {\n",
       "        text-align: left;\n",
       "    }\n",
       "\n",
       "    .dataframe tbody tr th {\n",
       "        vertical-align: top;\n",
       "    }\n",
       "</style>\n",
       "<table border=\"1\" class=\"dataframe\">\n",
       "  <thead>\n",
       "    <tr style=\"text-align: right;\">\n",
       "      <th></th>\n",
       "      <th>score1</th>\n",
       "      <th>score2</th>\n",
       "      <th>admitted</th>\n",
       "    </tr>\n",
       "  </thead>\n",
       "  <tbody>\n",
       "    <tr>\n",
       "      <th>0</th>\n",
       "      <td>0.051267</td>\n",
       "      <td>0.69956</td>\n",
       "      <td>1</td>\n",
       "    </tr>\n",
       "    <tr>\n",
       "      <th>1</th>\n",
       "      <td>-0.092742</td>\n",
       "      <td>0.68494</td>\n",
       "      <td>1</td>\n",
       "    </tr>\n",
       "    <tr>\n",
       "      <th>2</th>\n",
       "      <td>-0.213710</td>\n",
       "      <td>0.69225</td>\n",
       "      <td>1</td>\n",
       "    </tr>\n",
       "    <tr>\n",
       "      <th>3</th>\n",
       "      <td>-0.375000</td>\n",
       "      <td>0.50219</td>\n",
       "      <td>1</td>\n",
       "    </tr>\n",
       "    <tr>\n",
       "      <th>4</th>\n",
       "      <td>-0.513250</td>\n",
       "      <td>0.46564</td>\n",
       "      <td>1</td>\n",
       "    </tr>\n",
       "  </tbody>\n",
       "</table>\n",
       "</div>"
      ],
      "text/plain": [
       "     score1   score2  admitted\n",
       "0  0.051267  0.69956         1\n",
       "1 -0.092742  0.68494         1\n",
       "2 -0.213710  0.69225         1\n",
       "3 -0.375000  0.50219         1\n",
       "4 -0.513250  0.46564         1"
      ]
     },
     "execution_count": 14,
     "metadata": {},
     "output_type": "execute_result"
    }
   ],
   "source": [
    "df = pd.read_csv(\"./ex2data2.txt\", names=['score1', 'score2', 'admitted'])\n",
    "df.head()"
   ]
  },
  {
   "cell_type": "code",
   "execution_count": 15,
   "metadata": {
    "collapsed": true
   },
   "outputs": [],
   "source": [
    "X = df.as_matrix([\"score1\",\"score2\"])\n",
    "y = df.as_matrix([\"admitted\"])"
   ]
  },
  {
   "cell_type": "code",
   "execution_count": 16,
   "metadata": {},
   "outputs": [
    {
     "name": "stdout",
     "output_type": "stream",
     "text": [
      "X:shape (118, 2)\n",
      "y:shape (118, 1)\n"
     ]
    }
   ],
   "source": [
    "print('X:shape', X.shape)\n",
    "print('y:shape', y.shape)\n"
   ]
  },
  {
   "cell_type": "code",
   "execution_count": 17,
   "metadata": {},
   "outputs": [
    {
     "data": {
      "image/png": "[encoded data removed]",
      "text/plain": [
       "<matplotlib.figure.Figure at 0x151056ca58>"
      ]
     },
     "metadata": {},
     "output_type": "display_data"
    }
   ],
   "source": [
    "def plot_data(X, y):\n",
    "    pos = X[(y==1)[:, 0]]\n",
    "    neg = X[(y==0)[:,0]]\n",
    "\n",
    "    plt.plot(pos[:, 0], pos[:, 1], \"o\", label=u'y = 1')\n",
    "    plt.plot(neg[:, 0], neg[:, 1], \"x\", label=u'y = 0')\n",
    "    plt.xlabel('Microchip Test 1')\n",
    "    plt.ylabel('Microchip Test 2')\n",
    "    plt.legend()\n",
    "\n",
    "# call this function\n",
    "plot_data(X, y)"
   ]
  },
  {
   "cell_type": "markdown",
   "metadata": {},
   "source": [
    "# Part 1: Regularized Logistic Regression\n",
    "\n",
    "In this part, you are given a dataset with data points that are not linearly separable. \n",
    "However, you would still like to use logistic regression to classify the data points.\n",
    "\n",
    "To do so, you introduce more features to use -- in particular, you add polynomial features to our data matrix (similar to polynomial regression).\n"
   ]
  },
  {
   "cell_type": "code",
   "execution_count": 18,
   "metadata": {
    "collapsed": true
   },
   "outputs": [],
   "source": [
    "def map_feature(X1, X2):\n",
    "    \n",
    "    degree = 6\n",
    "    out = np.ones((X1.shape[0], 1))\n",
    "\n",
    "    for i in range(1, degree):\n",
    "        for j in  range(0, i):\n",
    "            n = np.power(X1, i - j) * np.power(X2, j)\n",
    "            out = np.hstack((out, n))\n",
    "    return out"
   ]
  },
  {
   "cell_type": "code",
   "execution_count": 19,
   "metadata": {
    "collapsed": true
   },
   "outputs": [],
   "source": [
    "def sigmoid(z):\n",
    "    return 1 / (1 + np.exp(-z))"
   ]
  },
  {
   "cell_type": "code",
   "execution_count": 20,
   "metadata": {
    "scrolled": true
   },
   "outputs": [
    {
     "name": "stdout",
     "output_type": "stream",
     "text": [
      "init_theta:  (16, 1)\n",
      "X:  (118, 16)\n",
      "hx shape (118, 1)\n",
      "y shape (118, 1)\n",
      "regular shape (1, 1)\n",
      "theta shape (16, 1)\n",
      "J shape (1, 1)\n",
      "grad shape (16, 1)\n",
      "Cost at initial theta (zeros): [[ 0.69314718]]\n",
      "Expected cost (approx): 0.693\n",
      "Gradient at initial theta (zeros) - first five values only:\n",
      "[[ 0.00847458]\n",
      " [ 0.01878809]\n",
      " [ 0.05034464]\n",
      " [ 0.01150133]\n",
      " [ 0.01835599]]\n",
      "Expected gradients (approx) - first five values only:\n",
      "0.0085\n",
      " 0.0188\n",
      " 0.0001\n",
      " 0.0503\n",
      " 0.0115\n"
     ]
    }
   ],
   "source": [
    "def cost_function_reg(theta, X, y, lmd):\n",
    "    '''\n",
    "    function [J, grad] = costFunctionReg(theta, X, y, lambda)\n",
    "    COSTFUNCTIONREG Compute cost and gradient for logistic regression with regularization\n",
    "    J = COSTFUNCTIONREG(theta, X, y, lambda) \n",
    "    computes the cost of using theta as the parameter for regularized logistic regression and the gradient of the cost w.r.t. to the parameters.\n",
    "    '''\n",
    "    \n",
    "    # Initialize some useful values\n",
    "    m = y.shape[0]\n",
    "    \n",
    "    # You need to return the following variables correctly\n",
    "    J = 0\n",
    "    grad = np.zeros(theta.shape)\n",
    "    \n",
    "    '''\n",
    "    ====================== YOUR CODE HERE ======================\n",
    "    Instructions: Compute the cost of a particular choice of theta.\n",
    "                           You should set J to the cost.\n",
    "                           Compute the partial derivatives and set grad to the partial derivatives of the cost w.r.t. each parameter in theta\n",
    "    '''\n",
    "    \n",
    "    if len(theta.shape) == 1:\n",
    "        theta = theta[:, np.newaxis]\n",
    "    \n",
    "    hx = sigmoid(np.dot(X, theta))\n",
    "       \n",
    "    theta[0, :] = 0\n",
    "    regular = lmd / (2*m) * np.dot(theta.T, theta)\n",
    "    \n",
    "#     '''\n",
    "    print('init_theta: ', theta.shape)\n",
    "    print('X: ', X.shape)\n",
    "    print(\"hx shape\", hx.shape)\n",
    "    print(\"y shape\", y.shape)\n",
    "    print(\"regular shape\", regular.shape)\n",
    "    print(\"theta shape\", theta.shape)\n",
    "#     '''\n",
    "    \n",
    "    J = (1/m) * ( - np.dot(y.T, np.log(hx)) - np.dot((1 - y).T, np.log(1 - hx))) + regular\n",
    "\n",
    "    \n",
    "    y_m = y# [:, np.newaxis] # y.shape => (m, ) h.shape =>(m,1)\n",
    "    grad = (1/m) * np.dot(X.T, (hx -  y_m))\n",
    "    \n",
    "    print(\"J shape\", J.shape)\n",
    "    print(\"grad shape\", grad.shape)\n",
    "    return (J, grad)\n",
    "\n",
    "\n",
    "# Add Polynomial Features\n",
    "# Note that mapFeature also adds a column of ones for us, so the intercept term is handled\n",
    "\n",
    "X_s = np.hsplit(X, 2)\n",
    "X = map_feature(X_s[0], X_s[1])\n",
    "\n",
    "# Initialize fitting parameters\n",
    "(m, n) = X.shape\n",
    "initial_theta = np.zeros((n, 1))\n",
    "\n",
    "# Set regularization parameter lambda to 1\n",
    "lmd = 1\n",
    "\n",
    "# Compute and display initial cost and gradient for regularized logistic regression\n",
    "res = cost_function_reg(initial_theta, X, y, lmd)\n",
    "cost = res[0]\n",
    "grad = res[1]\n",
    "\n",
    "print(\"Cost at initial theta (zeros): {0}\".format(cost))\n",
    "print(\"Expected cost (approx): 0.693\")\n",
    "print('Gradient at initial theta (zeros) - first five values only:')\n",
    "print(grad[:5])\n",
    "print(\"Expected gradients (approx) - first five values only:\")\n",
    "print(\"0.0085\\n 0.0188\\n 0.0001\\n 0.0503\\n 0.0115\")"
   ]
  },
  {
   "cell_type": "code",
   "execution_count": null,
   "metadata": {
    "collapsed": true
   },
   "outputs": [],
   "source": []
  },
  {
   "cell_type": "markdown",
   "metadata": {},
   "source": [
    "# Part 2: Regularization and Accuracies\n",
    "\n",
    "Optional Exercise:\n",
    "In this part, you will get to try different values of lambda and see how regularization affects the decision coundart\n",
    "\n",
    "Try the following values of lambda (0, 1, 10, 100).\n",
    "\n",
    "How does the decision boundary change when you vary lambda? \n",
    "How does the training set accuracy vary?"
   ]
  },
  {
   "cell_type": "code",
   "execution_count": 21,
   "metadata": {
    "collapsed": true
   },
   "outputs": [],
   "source": [
    "def plot_decision_boundary(theta, X, y):\n",
    "    plt.plot(pos[:, 0], pos[:, 1], \"o\", label=u'y = 1')\n",
    "    plt.plot(neg[:, 0], neg[:, 1], \"x\", label=u'y = 0')\n",
    "    \n",
    "    plt.xlabel('Microchip Test 1')\n",
    "    plt.ylabel('Microchip Test 2')\n",
    "\n",
    "#     plt.plot(, , \"-g\", label=u'Decision boundary')\n",
    "#     plt.legend()\n"
   ]
  },
  {
   "cell_type": "code",
   "execution_count": 22,
   "metadata": {
    "collapsed": true
   },
   "outputs": [],
   "source": [
    "def predict(theta_cv, X):\n",
    "    m = X.shape[0] # Number of training examples\n",
    "    # You need to return the following variables correctly\n",
    "    p = np.zeros((m, 1))\n",
    "    return sigmoid(np.dot(X, theta_cv)) >= 0.5"
   ]
  },
  {
   "cell_type": "code",
   "execution_count": 25,
   "metadata": {
    "scrolled": true
   },
   "outputs": [
    {
     "name": "stdout",
     "output_type": "stream",
     "text": [
      "initial_theta:  (16, 1)\n",
      "init_theta:  (16, 1)\n",
      "X:  (118, 16)\n",
      "hx shape (118, 1)\n",
      "y shape (118, 1)\n",
      "regular shape (1, 1)\n",
      "theta shape (16, 1)\n",
      "J shape (1, 1)\n",
      "grad shape (16, 1)\n",
      "init_theta:  (16, 1)\n",
      "X:  (118, 16)\n",
      "hx shape (118, 1)\n",
      "y shape (118, 1)\n",
      "regular shape (1, 1)\n",
      "theta shape (16, 1)\n",
      "J shape (1, 1)\n",
      "grad shape (16, 1)\n"
     ]
    },
    {
     "ename": "ValueError",
     "evalue": "shapes (16,1) and (16,1) not aligned: 1 (dim 1) != 16 (dim 0)",
     "output_type": "error",
     "traceback": [
      "\u001b[0;31m---------------------------------------------------------------------------\u001b[0m",
      "\u001b[0;31mValueError\u001b[0m                                Traceback (most recent call last)",
      "\u001b[0;32m<ipython-input-25-76c62c19b4ad>\u001b[0m in \u001b[0;36m<module>\u001b[0;34m()\u001b[0m\n\u001b[1;32m      9\u001b[0m \u001b[0;31m# Optimize\u001b[0m\u001b[0;34m\u001b[0m\u001b[0;34m\u001b[0m\u001b[0m\n\u001b[1;32m     10\u001b[0m \u001b[0mf\u001b[0m \u001b[0;34m=\u001b[0m \u001b[0;32mlambda\u001b[0m \u001b[0mt\u001b[0m\u001b[0;34m:\u001b[0m \u001b[0mcost_function_reg\u001b[0m\u001b[0;34m(\u001b[0m\u001b[0mt\u001b[0m\u001b[0;34m,\u001b[0m \u001b[0mX\u001b[0m\u001b[0;34m,\u001b[0m \u001b[0my\u001b[0m\u001b[0;34m,\u001b[0m \u001b[0mlmd\u001b[0m\u001b[0;34m)\u001b[0m\u001b[0;34m\u001b[0m\u001b[0m\n\u001b[0;32m---> 11\u001b[0;31m \u001b[0mres\u001b[0m \u001b[0;34m=\u001b[0m \u001b[0moptimize\u001b[0m\u001b[0;34m.\u001b[0m\u001b[0mminimize\u001b[0m\u001b[0;34m(\u001b[0m\u001b[0mf\u001b[0m\u001b[0;34m,\u001b[0m \u001b[0minitial_theta\u001b[0m\u001b[0;34m,\u001b[0m \u001b[0mmethod\u001b[0m\u001b[0;34m=\u001b[0m\u001b[0;34m'BFGS'\u001b[0m\u001b[0;34m,\u001b[0m \u001b[0mjac\u001b[0m\u001b[0;34m=\u001b[0m\u001b[0;32mTrue\u001b[0m\u001b[0;34m,\u001b[0m \u001b[0moptions\u001b[0m\u001b[0;34m=\u001b[0m\u001b[0;34m{\u001b[0m\u001b[0;34m'maxiter'\u001b[0m\u001b[0;34m:\u001b[0m \u001b[0;36m400\u001b[0m\u001b[0;34m}\u001b[0m\u001b[0;34m)\u001b[0m\u001b[0;34m\u001b[0m\u001b[0m\n\u001b[0m\u001b[1;32m     12\u001b[0m \u001b[0;34m\u001b[0m\u001b[0m\n\u001b[1;32m     13\u001b[0m \u001b[0mtheta\u001b[0m \u001b[0;34m=\u001b[0m \u001b[0mres\u001b[0m\u001b[0;34m.\u001b[0m\u001b[0mx\u001b[0m\u001b[0;34m\u001b[0m\u001b[0m\n",
      "\u001b[0;32m~/anaconda3/lib/python3.6/site-packages/scipy/optimize/_minimize.py\u001b[0m in \u001b[0;36mminimize\u001b[0;34m(fun, x0, args, method, jac, hess, hessp, bounds, constraints, tol, callback, options)\u001b[0m\n\u001b[1;32m    442\u001b[0m         \u001b[0;32mreturn\u001b[0m \u001b[0m_minimize_cg\u001b[0m\u001b[0;34m(\u001b[0m\u001b[0mfun\u001b[0m\u001b[0;34m,\u001b[0m \u001b[0mx0\u001b[0m\u001b[0;34m,\u001b[0m \u001b[0margs\u001b[0m\u001b[0;34m,\u001b[0m \u001b[0mjac\u001b[0m\u001b[0;34m,\u001b[0m \u001b[0mcallback\u001b[0m\u001b[0;34m,\u001b[0m \u001b[0;34m**\u001b[0m\u001b[0moptions\u001b[0m\u001b[0;34m)\u001b[0m\u001b[0;34m\u001b[0m\u001b[0m\n\u001b[1;32m    443\u001b[0m     \u001b[0;32melif\u001b[0m \u001b[0mmeth\u001b[0m \u001b[0;34m==\u001b[0m \u001b[0;34m'bfgs'\u001b[0m\u001b[0;34m:\u001b[0m\u001b[0;34m\u001b[0m\u001b[0m\n\u001b[0;32m--> 444\u001b[0;31m         \u001b[0;32mreturn\u001b[0m \u001b[0m_minimize_bfgs\u001b[0m\u001b[0;34m(\u001b[0m\u001b[0mfun\u001b[0m\u001b[0;34m,\u001b[0m \u001b[0mx0\u001b[0m\u001b[0;34m,\u001b[0m \u001b[0margs\u001b[0m\u001b[0;34m,\u001b[0m \u001b[0mjac\u001b[0m\u001b[0;34m,\u001b[0m \u001b[0mcallback\u001b[0m\u001b[0;34m,\u001b[0m \u001b[0;34m**\u001b[0m\u001b[0moptions\u001b[0m\u001b[0;34m)\u001b[0m\u001b[0;34m\u001b[0m\u001b[0m\n\u001b[0m\u001b[1;32m    445\u001b[0m     \u001b[0;32melif\u001b[0m \u001b[0mmeth\u001b[0m \u001b[0;34m==\u001b[0m \u001b[0;34m'newton-cg'\u001b[0m\u001b[0;34m:\u001b[0m\u001b[0;34m\u001b[0m\u001b[0m\n\u001b[1;32m    446\u001b[0m         return _minimize_newtoncg(fun, x0, args, jac, hess, hessp, callback,\n",
      "\u001b[0;32m~/anaconda3/lib/python3.6/site-packages/scipy/optimize/optimize.py\u001b[0m in \u001b[0;36m_minimize_bfgs\u001b[0;34m(fun, x0, args, jac, callback, gtol, norm, eps, maxiter, disp, return_all, **unknown_options)\u001b[0m\n\u001b[1;32m    932\u001b[0m             \u001b[0malpha_k\u001b[0m\u001b[0;34m,\u001b[0m \u001b[0mfc\u001b[0m\u001b[0;34m,\u001b[0m \u001b[0mgc\u001b[0m\u001b[0;34m,\u001b[0m \u001b[0mold_fval\u001b[0m\u001b[0;34m,\u001b[0m \u001b[0mold_old_fval\u001b[0m\u001b[0;34m,\u001b[0m \u001b[0mgfkp1\u001b[0m \u001b[0;34m=\u001b[0m\u001b[0;31m \u001b[0m\u001b[0;31m\\\u001b[0m\u001b[0;34m\u001b[0m\u001b[0m\n\u001b[1;32m    933\u001b[0m                      _line_search_wolfe12(f, myfprime, xk, pk, gfk,\n\u001b[0;32m--> 934\u001b[0;31m                                           old_fval, old_old_fval, amin=1e-100, amax=1e100)\n\u001b[0m\u001b[1;32m    935\u001b[0m         \u001b[0;32mexcept\u001b[0m \u001b[0m_LineSearchError\u001b[0m\u001b[0;34m:\u001b[0m\u001b[0;34m\u001b[0m\u001b[0m\n\u001b[1;32m    936\u001b[0m             \u001b[0;31m# Line search failed to find a better solution.\u001b[0m\u001b[0;34m\u001b[0m\u001b[0;34m\u001b[0m\u001b[0m\n",
      "\u001b[0;32m~/anaconda3/lib/python3.6/site-packages/scipy/optimize/optimize.py\u001b[0m in \u001b[0;36m_line_search_wolfe12\u001b[0;34m(f, fprime, xk, pk, gfk, old_fval, old_old_fval, **kwargs)\u001b[0m\n\u001b[1;32m    763\u001b[0m     ret = line_search_wolfe1(f, fprime, xk, pk, gfk,\n\u001b[1;32m    764\u001b[0m                              \u001b[0mold_fval\u001b[0m\u001b[0;34m,\u001b[0m \u001b[0mold_old_fval\u001b[0m\u001b[0;34m,\u001b[0m\u001b[0;34m\u001b[0m\u001b[0m\n\u001b[0;32m--> 765\u001b[0;31m                              **kwargs)\n\u001b[0m\u001b[1;32m    766\u001b[0m \u001b[0;34m\u001b[0m\u001b[0m\n\u001b[1;32m    767\u001b[0m     \u001b[0;32mif\u001b[0m \u001b[0mret\u001b[0m\u001b[0;34m[\u001b[0m\u001b[0;36m0\u001b[0m\u001b[0;34m]\u001b[0m \u001b[0;32mis\u001b[0m \u001b[0;32mNone\u001b[0m\u001b[0;34m:\u001b[0m\u001b[0;34m\u001b[0m\u001b[0m\n",
      "\u001b[0;32m~/anaconda3/lib/python3.6/site-packages/scipy/optimize/linesearch.py\u001b[0m in \u001b[0;36mline_search_wolfe1\u001b[0;34m(f, fprime, xk, pk, gfk, old_fval, old_old_fval, args, c1, c2, amax, amin, xtol)\u001b[0m\n\u001b[1;32m     95\u001b[0m         \u001b[0;32mreturn\u001b[0m \u001b[0mnp\u001b[0m\u001b[0;34m.\u001b[0m\u001b[0mdot\u001b[0m\u001b[0;34m(\u001b[0m\u001b[0mgval\u001b[0m\u001b[0;34m[\u001b[0m\u001b[0;36m0\u001b[0m\u001b[0;34m]\u001b[0m\u001b[0;34m,\u001b[0m \u001b[0mpk\u001b[0m\u001b[0;34m)\u001b[0m\u001b[0;34m\u001b[0m\u001b[0m\n\u001b[1;32m     96\u001b[0m \u001b[0;34m\u001b[0m\u001b[0m\n\u001b[0;32m---> 97\u001b[0;31m     \u001b[0mderphi0\u001b[0m \u001b[0;34m=\u001b[0m \u001b[0mnp\u001b[0m\u001b[0;34m.\u001b[0m\u001b[0mdot\u001b[0m\u001b[0;34m(\u001b[0m\u001b[0mgfk\u001b[0m\u001b[0;34m,\u001b[0m \u001b[0mpk\u001b[0m\u001b[0;34m)\u001b[0m\u001b[0;34m\u001b[0m\u001b[0m\n\u001b[0m\u001b[1;32m     98\u001b[0m \u001b[0;34m\u001b[0m\u001b[0m\n\u001b[1;32m     99\u001b[0m     stp, fval, old_fval = scalar_search_wolfe1(\n",
      "\u001b[0;31mValueError\u001b[0m: shapes (16,1) and (16,1) not aligned: 1 (dim 1) != 16 (dim 0)"
     ]
    }
   ],
   "source": [
    "# Initialize fitting parameters\n",
    "(m, n) = X.shape\n",
    "\n",
    "initial_theta = np.zeros((n, 1))\n",
    "print('initial_theta: ', initial_theta.shape)\n",
    "# Set regularization parameter lambda to 1 (you should vary this)\n",
    "lmd = 1\n",
    "\n",
    "# Optimize\n",
    "f = lambda t: cost_function_reg(t, X, y, lmd)\n",
    "res = optimize.minimize(f, initial_theta, method='BFGS', jac=True, options={'maxiter': 400})\n",
    "\n",
    "theta = res.x\n",
    "\n",
    "# Plot Boundary\n",
    "plot_decision_boundary(theta, X, y)\n",
    "\n",
    "# Compute accuracy on our training set\n",
    "theta_cv = np.array(theta, ndmin=2).T \n",
    "p = predict(theta_cv, X) \n",
    "\n",
    "print('Train Accuracy: {0}'.format(np.mean(p == y) * 100))"
   ]
  },
  {
   "cell_type": "code",
   "execution_count": null,
   "metadata": {
    "collapsed": true
   },
   "outputs": [],
   "source": [
    "# %whos\n",
    "# optimize.minimize\n",
    "tht= (1, 2)\n",
    "len(tht)"
   ]
  }
 ],
 "metadata": {
  "kernelspec": {
   "display_name": "Python 3",
   "language": "python",
   "name": "python3"
  },
  "language_info": {
   "codemirror_mode": {
    "name": "ipython",
    "version": 3
   },
   "file_extension": ".py",
   "mimetype": "text/x-python",
   "name": "python",
   "nbconvert_exporter": "python",
   "pygments_lexer": "ipython3",
   "version": "3.6.2"
  }
 },
 "nbformat": 4,
 "nbformat_minor": 2
}
