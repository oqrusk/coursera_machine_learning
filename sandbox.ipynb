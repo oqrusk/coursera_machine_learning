{
 "cells": [
  {
   "cell_type": "code",
   "execution_count": 4,
   "metadata": {
    "collapsed": false
   },
   "outputs": [
    {
     "name": "stdout",
     "output_type": "stream",
     "text": [
      "10 20\n",
      "20 10\n"
     ]
    }
   ],
   "source": [
    "(a, b) = 10 , 20\n",
    "print(a, b)\n",
    "\n",
    "def return_10():\n",
    "    return 10\n",
    "def return_20():\n",
    "    return 20\n",
    "\n",
    "(c, d) = return_20(), return_10()\n",
    "print(c, d)\n"
   ]
  },
  {
   "cell_type": "code",
   "execution_count": 11,
   "metadata": {
    "collapsed": false
   },
   "outputs": [
    {
     "name": "stdout",
     "output_type": "stream",
     "text": [
      "[[  1.00000000e+00   0.00000000e+00   0.00000000e+00   0.00000000e+00\n",
      "    0.00000000e+00   0.00000000e+00]\n",
      " [  1.00000000e+00   1.00000000e+00   1.00000000e+00   1.00000000e+00\n",
      "    1.00000000e+00   1.00000000e+00]\n",
      " [  1.00000000e+00   2.00000000e+00   4.00000000e+00   8.00000000e+00\n",
      "    1.60000000e+01   3.20000000e+01]\n",
      " [  1.00000000e+00   3.00000000e+00   9.00000000e+00   2.70000000e+01\n",
      "    8.10000000e+01   2.43000000e+02]\n",
      " [  1.00000000e+00   4.00000000e+00   1.60000000e+01   6.40000000e+01\n",
      "    2.56000000e+02   1.02400000e+03]]\n"
     ]
    }
   ],
   "source": [
    "import numpy as np\n",
    "\n",
    "X1 = np.arange(5).reshape(5,1)\n",
    "X2 = np.arange(5).reshape(5,1)\n",
    "\n",
    "degree = 6\n",
    "out = np.ones(shape=(X1.shape[0], 1))\n",
    "\n",
    "for i in range(1, degree):\n",
    "    for j in  range(0, i):\n",
    "        n = np.power(X1, i - j) * np.power(X2, j)\n",
    "    out = np.hstack((out, n))\n",
    "print(out)"
   ]
  },
  {
   "cell_type": "code",
   "execution_count": null,
   "metadata": {
    "collapsed": true
   },
   "outputs": [],
   "source": [
    "\n",
    "\n"
   ]
  }
 ],
 "metadata": {
  "anaconda-cloud": {},
  "kernelspec": {
   "display_name": "Python [default]",
   "language": "python",
   "name": "python3"
  },
  "language_info": {
   "codemirror_mode": {
    "name": "ipython",
    "version": 3
   },
   "file_extension": ".py",
   "mimetype": "text/x-python",
   "name": "python",
   "nbconvert_exporter": "python",
   "pygments_lexer": "ipython3",
   "version": "3.5.2"
  }
 },
 "nbformat": 4,
 "nbformat_minor": 2
}
